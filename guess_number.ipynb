{
 "cells": [
  {
   "cell_type": "code",
   "execution_count": 1,
   "metadata": {},
   "outputs": [
    {
     "name": "stdout",
     "output_type": "stream",
     "text": [
      "Tebak angka antara 1 dan 100!\n",
      "Terlalu rendah!\n",
      "Terlalu tinggi!\n",
      "Terlalu tinggi!\n",
      "Terlalu tinggi!\n",
      "Terlalu rendah!\n",
      "Terlalu rendah!\n",
      "Terlalu rendah!\n",
      "Terlalu tinggi!\n",
      "Terlalu tinggi!\n",
      "Terlalu tinggi!\n",
      "Selamat! Anda menebak dengan benar dalam 11 percobaan!\n"
     ]
    }
   ],
   "source": [
    "import random\n",
    "\n",
    "def number_guess():\n",
    "    angka_rahasia = random.randint(1, 100)\n",
    "    percobaan = 0\n",
    "    tebakan = 0\n",
    "\n",
    "    print(\"Tebak angka antara 1 dan 100!\")\n",
    "\n",
    "    while tebakan != angka_rahasia:\n",
    "        tebakan = int(input(\"Masukkan tebakan Anda: \"))\n",
    "        percobaan += 1\n",
    "\n",
    "        if tebakan < angka_rahasia:\n",
    "            print(\"Terlalu rendah!\")\n",
    "        elif tebakan > angka_rahasia:\n",
    "            print(\"Terlalu tinggi!\")\n",
    "        else:\n",
    "            print(f\"Benar,  Anda menebak dalam {percobaan} percobaan!\")\n",
    "\n",
    "number_guess()\n"
   ]
  }
 ],
 "metadata": {
  "kernelspec": {
   "display_name": "Python 3",
   "language": "python",
   "name": "python3"
  },
  "language_info": {
   "codemirror_mode": {
    "name": "ipython",
    "version": 3
   },
   "file_extension": ".py",
   "mimetype": "text/x-python",
   "name": "python",
   "nbconvert_exporter": "python",
   "pygments_lexer": "ipython3",
   "version": "3.12.2"
  }
 },
 "nbformat": 4,
 "nbformat_minor": 2
}
